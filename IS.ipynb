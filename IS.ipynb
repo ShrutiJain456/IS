{
  "nbformat": 4,
  "nbformat_minor": 0,
  "metadata": {
    "colab": {
      "provenance": []
    },
    "kernelspec": {
      "name": "python3",
      "display_name": "Python 3"
    },
    "language_info": {
      "name": "python"
    }
  },
  "cells": [
    {
      "cell_type": "markdown",
      "source": [
        "##Euclidean, Extended Euclidean"
      ],
      "metadata": {
        "id": "5OLMXWDOaMiY"
      }
    },
    {
      "cell_type": "code",
      "source": [
        "# Euclidean\n",
        "def gcd(a,b):\n",
        "  if(a==0):\n",
        "    return b\n",
        "  return gcd(b%a, a)\n",
        "\n",
        "#Extended Euclidean\n",
        "def gcdExtended(a, b):\n",
        "    if a == 0:\n",
        "        return b, 0, 1\n",
        "    gcd, x1, y1 = gcdExtended(b % a, a)\n",
        "    x = y1 - (b//a) * x1\n",
        "    y = x1\n",
        "    return gcd, x, y\n",
        "\n",
        "a, b = 35, 15\n",
        "g, x, y = gcdExtended(a, b)\n",
        "print(\"gcd(\", a, \",\", b, \") = \", g, \"\\nx= \" ,x, \"\\ty= \",y )\n",
        "print(gcd(10,15))"
      ],
      "metadata": {
        "colab": {
          "base_uri": "https://localhost:8080/"
        },
        "id": "ptUSGrStZ3Ed",
        "outputId": "65eccffc-4ce8-40bb-9fe6-7c014462b47e"
      },
      "execution_count": null,
      "outputs": [
        {
          "output_type": "stream",
          "name": "stdout",
          "text": [
            "gcd( 35 , 15 ) =  5 \n",
            "x=  1 \ty=  -2\n",
            "5\n"
          ]
        }
      ]
    },
    {
      "cell_type": "code",
      "source": [
        "def extended_gcd(a,b):\n",
        "  s, old_s = 0,1\n",
        "  t, old_t = 1,0\n",
        "  r, old_r = b,a\n",
        "  steps = []\n",
        "  while r != 0:\n",
        "    quotient = old_r//r\n",
        "    old_r, r = r, old_r - quotient*r\n",
        "    old_s, s = s, old_s - quotient*s\n",
        "    old_t, t = t, old_t - quotient*t\n",
        "\n",
        "    steps.append((old_r, old_s, old_t,quotient))\n",
        "  return old_r, old_s, old_t, steps\n",
        "\n",
        "def table(a,b):\n",
        "  gcd, s, t, steps = extended_gcd(a,b)\n",
        "  print(f\"Extended GCD for {a} and {b}:\")\n",
        "  print(\"| step | r | s | t | quotient |\")\n",
        "  print(\" ----------------------------- \")\n",
        "  for i, step in enumerate(steps, start = 1):\n",
        "    r, s_val, t_val, q = step\n",
        "    print(f\"| {i:3} | {r:2} | {s_val:2} | {t_val:2} | {q:2} |\")\n",
        "  print(\" ----------------------------- \")\n",
        "  print(f\"gcd of ({a}, {b}) = {gcd}\")\n",
        "a = 35\n",
        "b = 15\n",
        "table(35,15)"
      ],
      "metadata": {
        "colab": {
          "base_uri": "https://localhost:8080/"
        },
        "id": "PLfzPZv2NCpV",
        "outputId": "ca7607b4-9c49-4ce3-b371-7e0be9858ae9"
      },
      "execution_count": null,
      "outputs": [
        {
          "output_type": "stream",
          "name": "stdout",
          "text": [
            "Extended GCD for 35 and 15:\n",
            "| step | r | s | t | quotient |\n",
            " ----------------------------- \n",
            "|   1 | 15 |  0 |  1 |  2 |\n",
            "|   2 |  5 |  1 | -2 |  3 |\n",
            " ----------------------------- \n",
            "gcd of (35, 15) = 5\n"
          ]
        }
      ]
    },
    {
      "cell_type": "markdown",
      "source": [
        "##Ceasar Cipher & Brute Force"
      ],
      "metadata": {
        "id": "H-Nev3IkcPb0"
      }
    },
    {
      "cell_type": "code",
      "source": [
        "def ceasar_encrypt(text, shift):\n",
        "  encrypted = \"\"\n",
        "  for i in range(len(text)):\n",
        "    char = text[i]\n",
        "    if(char.isupper()):\n",
        "      encrypted+= chr((ord(char) + shift-65)%26 +65)\n",
        "    else:\n",
        "      encrypted+= chr((ord(char) + shift-97)%26 +97)\n",
        "  print(encrypted)\n",
        "  return encrypted\n",
        "\n",
        "def brute_force_caesar_cipher(ciphertext):\n",
        "    for shift in range(26):\n",
        "        decrypted_text = ceasar_encrypt(ciphertext, -shift)\n",
        "        print(f\"Shift {shift}: {decrypted_text}\")\n",
        "\n",
        "\n",
        "ceasar_encrypt(\"ATTACKATONCE\", 4)\n",
        "brute_force_caesar_cipher(\"EXXEGOEXSRGI\")"
      ],
      "metadata": {
        "colab": {
          "base_uri": "https://localhost:8080/"
        },
        "id": "zH1YIPhJcITj",
        "outputId": "03994243-665a-4d38-b8e6-c2d066b3526b"
      },
      "execution_count": null,
      "outputs": [
        {
          "output_type": "stream",
          "name": "stdout",
          "text": [
            "EXXEGOEXSRGI\n",
            "EXXEGOEXSRGI\n",
            "Shift 0: EXXEGOEXSRGI\n",
            "DWWDFNDWRQFH\n",
            "Shift 1: DWWDFNDWRQFH\n",
            "CVVCEMCVQPEG\n",
            "Shift 2: CVVCEMCVQPEG\n",
            "BUUBDLBUPODF\n",
            "Shift 3: BUUBDLBUPODF\n",
            "ATTACKATONCE\n",
            "Shift 4: ATTACKATONCE\n",
            "ZSSZBJZSNMBD\n",
            "Shift 5: ZSSZBJZSNMBD\n",
            "YRRYAIYRMLAC\n",
            "Shift 6: YRRYAIYRMLAC\n",
            "XQQXZHXQLKZB\n",
            "Shift 7: XQQXZHXQLKZB\n",
            "WPPWYGWPKJYA\n",
            "Shift 8: WPPWYGWPKJYA\n",
            "VOOVXFVOJIXZ\n",
            "Shift 9: VOOVXFVOJIXZ\n",
            "UNNUWEUNIHWY\n",
            "Shift 10: UNNUWEUNIHWY\n",
            "TMMTVDTMHGVX\n",
            "Shift 11: TMMTVDTMHGVX\n",
            "SLLSUCSLGFUW\n",
            "Shift 12: SLLSUCSLGFUW\n",
            "RKKRTBRKFETV\n",
            "Shift 13: RKKRTBRKFETV\n",
            "QJJQSAQJEDSU\n",
            "Shift 14: QJJQSAQJEDSU\n",
            "PIIPRZPIDCRT\n",
            "Shift 15: PIIPRZPIDCRT\n",
            "OHHOQYOHCBQS\n",
            "Shift 16: OHHOQYOHCBQS\n",
            "NGGNPXNGBAPR\n",
            "Shift 17: NGGNPXNGBAPR\n",
            "MFFMOWMFAZOQ\n",
            "Shift 18: MFFMOWMFAZOQ\n",
            "LEELNVLEZYNP\n",
            "Shift 19: LEELNVLEZYNP\n",
            "KDDKMUKDYXMO\n",
            "Shift 20: KDDKMUKDYXMO\n",
            "JCCJLTJCXWLN\n",
            "Shift 21: JCCJLTJCXWLN\n",
            "IBBIKSIBWVKM\n",
            "Shift 22: IBBIKSIBWVKM\n",
            "HAAHJRHAVUJL\n",
            "Shift 23: HAAHJRHAVUJL\n",
            "GZZGIQGZUTIK\n",
            "Shift 24: GZZGIQGZUTIK\n",
            "FYYFHPFYTSHJ\n",
            "Shift 25: FYYFHPFYTSHJ\n"
          ]
        }
      ]
    },
    {
      "cell_type": "markdown",
      "source": [
        "##Vernam"
      ],
      "metadata": {
        "id": "OKeZAHzXejKh"
      }
    },
    {
      "cell_type": "code",
      "source": [
        "def vernam_encrypt(text, key):\n",
        "  encrypted=\"\"\n",
        "  for i in range(len(text)):\n",
        "    m = text[i]\n",
        "    t = key[i]\n",
        "    c = chr((ord(m) ^ ord(t))+65)\n",
        "    encrypted+=c\n",
        "  print(encrypted)\n",
        "vernam_encrypt(\"hello\",\"abcde\")"
      ],
      "metadata": {
        "colab": {
          "base_uri": "https://localhost:8080/"
        },
        "id": "zihnLYbDdvCb",
        "outputId": "482dd1ed-8102-44dd-dd05-28c45b9e3f06"
      },
      "execution_count": null,
      "outputs": [
        {
          "output_type": "stream",
          "name": "stdout",
          "text": [
            "JHPIK\n"
          ]
        }
      ]
    },
    {
      "cell_type": "markdown",
      "source": [
        "##Railfence"
      ],
      "metadata": {
        "id": "TYnHAkMkZ0Cu"
      }
    },
    {
      "cell_type": "code",
      "source": [
        "import numpy as np\n",
        "def railfence_encrypt(text, key):\n",
        "  rows = key\n",
        "  columns = len(text)\n",
        "  matrix = np.full((rows, columns), '*')\n",
        "\n",
        "  dir_down = False\n",
        "  k=0\n",
        "  current_row, current_col=0,0\n",
        "  for i in range(columns):\n",
        "    if(current_row == 0 or current_row == key-1):\n",
        "      dir_down = not dir_down\n",
        "    matrix[current_row][current_col]=text[k]\n",
        "    current_col+=1\n",
        "    if(dir_down):\n",
        "      current_row+=1\n",
        "    else:\n",
        "      current_row-=1\n",
        "    k+=1\n",
        "  print(matrix)\n",
        "  encrypted = []\n",
        "  for i in range(rows):\n",
        "    for j in range(columns):\n",
        "      if(matrix[i][j] != \"*\"):\n",
        "        encrypted.append(matrix[i][j])\n",
        "  print(encrypted)\n",
        "\n",
        "\n",
        "railfence_encrypt(\"HELLO\", 3)"
      ],
      "metadata": {
        "colab": {
          "base_uri": "https://localhost:8080/"
        },
        "id": "4js7Uko-VOg1",
        "outputId": "749f36cd-45da-4c72-b609-d909e1edfcae"
      },
      "execution_count": null,
      "outputs": [
        {
          "output_type": "stream",
          "name": "stdout",
          "text": [
            "[['H' '*' '*' '*' 'O']\n",
            " ['*' 'E' '*' 'L' '*']\n",
            " ['*' '*' 'L' '*' '*']]\n",
            "['H', 'O', 'E', 'L', 'L']\n"
          ]
        }
      ]
    },
    {
      "cell_type": "markdown",
      "source": [
        "##Row Transposition"
      ],
      "metadata": {
        "id": "CStAoJJ1ih2R"
      }
    },
    {
      "cell_type": "code",
      "source": [
        "import numpy as np\n",
        "import random\n",
        "def generate_key(n):\n",
        "  key=[i for i in range(n)]\n",
        "  random.shuffle(key)\n",
        "  return key"
      ],
      "metadata": {
        "id": "jeKRo8J3LHzL"
      },
      "execution_count": null,
      "outputs": []
    },
    {
      "cell_type": "code",
      "source": [
        "def getpadding(n):\n",
        "  text = \"\"\n",
        "  for i in range(n):\n",
        "    text+= chr(random.randint(65,90))\n",
        "  return text"
      ],
      "metadata": {
        "id": "Lye1-TvTIGZL"
      },
      "execution_count": null,
      "outputs": []
    },
    {
      "cell_type": "code",
      "source": [
        "def create_matrix(text, rows):\n",
        "  text = text.upper()\n",
        "  if(len(text)%rows ==0 ):\n",
        "    cols= int(len(text)/rows)\n",
        "  else:\n",
        "    cols = int(len(text)/rows)+1\n",
        "  padding = rows*cols - len(text)\n",
        "  newtext = text  + getpadding(padding)\n",
        "  grid = [char for char in newtext]\n",
        "  matrix = np.array(grid).reshape(rows,cols)\n",
        "  return matrix"
      ],
      "metadata": {
        "id": "5KPHOCxPihUF"
      },
      "execution_count": null,
      "outputs": []
    },
    {
      "cell_type": "code",
      "source": [
        "def encrypt_row(text, rows):\n",
        "  matrix = create_matrix(text, rows)\n",
        "  print(matrix)\n",
        "  key = generate_key(rows)\n",
        "  print(key)\n",
        "  ct = \"\"\n",
        "  for row in key:\n",
        "    ct += \"\".join(matrix[row])\n",
        "  print(ct)\n",
        "encrypt_row(\"weareediscovered\", 4)\n"
      ],
      "metadata": {
        "colab": {
          "base_uri": "https://localhost:8080/"
        },
        "id": "RfOUZQbWKybI",
        "outputId": "6e83ecbe-e88d-4fb3-f68f-a57e053670e9"
      },
      "execution_count": null,
      "outputs": [
        {
          "output_type": "stream",
          "name": "stdout",
          "text": [
            "[['W' 'E' 'A' 'R']\n",
            " ['E' 'E' 'D' 'I']\n",
            " ['S' 'C' 'O' 'V']\n",
            " ['E' 'R' 'E' 'D']]\n",
            "[0, 2, 3, 1]\n",
            "WEARSCOVEREDEEDI\n"
          ]
        }
      ]
    },
    {
      "cell_type": "markdown",
      "source": [
        "##Column Transposition"
      ],
      "metadata": {
        "id": "2MKqSeS8NtAv"
      }
    },
    {
      "cell_type": "code",
      "source": [
        "import numpy as np\n",
        "import random\n",
        "def generate_key(n):\n",
        "  key=[i for i in range(n)]\n",
        "  random.shuffle(key)\n",
        "  return key"
      ],
      "metadata": {
        "id": "H33Ig9szNvx4"
      },
      "execution_count": null,
      "outputs": []
    },
    {
      "cell_type": "code",
      "source": [
        "def getpadding(n):\n",
        "  text = \"\"\n",
        "  for i in range(n):\n",
        "    text+= chr(random.randint(65,90))\n",
        "  return text"
      ],
      "metadata": {
        "id": "2iJqDp3lN8TZ"
      },
      "execution_count": null,
      "outputs": []
    },
    {
      "cell_type": "code",
      "source": [
        "def makeGrid(text,n):\n",
        "    text=text.upper()\n",
        "    rows=int(len(text)/n)+1\n",
        "    pads=n*rows-len(text)\n",
        "    newtext=text+ getpadding(pads)\n",
        "    grid=[char for char in newtext]\n",
        "    grid=np.array(grid).reshape(rows,n)\n",
        "    return grid"
      ],
      "metadata": {
        "id": "ZNPfLZejN9z-"
      },
      "execution_count": null,
      "outputs": []
    },
    {
      "cell_type": "code",
      "source": [
        "def encrypt_col(text,n):\n",
        "    grid=makeGrid(text,n)\n",
        "    print(grid)\n",
        "    grid=grid.transpose()\n",
        "    key=generate_key(n)\n",
        "    print(key)\n",
        "    ct=\"\"\n",
        "    for col in key:\n",
        "        ct=ct + \"\".join(grid[col])\n",
        "    return ct\n",
        "encrypt_col(\"weareediscovered\", 4)"
      ],
      "metadata": {
        "colab": {
          "base_uri": "https://localhost:8080/",
          "height": 139
        },
        "id": "n5dgfFHDOeCk",
        "outputId": "55c604b2-72df-474b-8552-da794018d76f"
      },
      "execution_count": null,
      "outputs": [
        {
          "output_type": "stream",
          "name": "stdout",
          "text": [
            "[['W' 'E' 'A' 'R']\n",
            " ['E' 'E' 'D' 'I']\n",
            " ['S' 'C' 'O' 'V']\n",
            " ['E' 'R' 'E' 'D']\n",
            " ['C' 'X' 'X' 'E']]\n",
            "[2, 0, 1, 3]\n"
          ]
        },
        {
          "output_type": "execute_result",
          "data": {
            "text/plain": [
              "'ADOEXWESECEECRXRIVDE'"
            ],
            "application/vnd.google.colaboratory.intrinsic+json": {
              "type": "string"
            }
          },
          "metadata": {},
          "execution_count": 62
        }
      ]
    },
    {
      "cell_type": "markdown",
      "source": [
        "##RSA"
      ],
      "metadata": {
        "id": "XMDk8QCmly63"
      }
    },
    {
      "cell_type": "code",
      "source": [
        "from math import gcd\n",
        "def RSA(p: int, q: int, message: int):\n",
        "    n = p * q\n",
        "\n",
        "    phi = (p - 1) * (q - 1)\n",
        "    e=0\n",
        "    for i in range(2, phi):\n",
        "        if gcd(i, phi) == 1:\n",
        "            e = i\n",
        "            break\n",
        "    j = 0\n",
        "    while True:\n",
        "        if (j * e) % phi == 1:\n",
        "            d = j\n",
        "            break\n",
        "        j += 1\n",
        "\n",
        "    ct = (message ** e) % n\n",
        "    print(f\"Encrypted message is {ct}\")\n",
        "\n",
        "    mes = (ct ** d) % n\n",
        "    print(f\"Decrypted message is {mes}\")\n",
        "\n",
        "RSA(p=53, q=59, message=89)\n",
        "RSA(p=3, q=7, message=12)"
      ],
      "metadata": {
        "colab": {
          "base_uri": "https://localhost:8080/"
        },
        "id": "VdzWzaSMl2Wi",
        "outputId": "c2d37095-e168-48b9-f355-7b2d1e2d710b"
      },
      "execution_count": null,
      "outputs": [
        {
          "output_type": "stream",
          "name": "stdout",
          "text": [
            "Encrypted message is 1394\n",
            "Decrypted message is 89\n",
            "Encrypted message is 3\n",
            "Decrypted message is 12\n"
          ]
        }
      ]
    },
    {
      "cell_type": "markdown",
      "source": [],
      "metadata": {
        "id": "n0dufyhzmW6T"
      }
    },
    {
      "cell_type": "markdown",
      "source": [],
      "metadata": {
        "id": "mToyCLJSmZGu"
      }
    },
    {
      "cell_type": "markdown",
      "source": [
        "##Diffie Hellman"
      ],
      "metadata": {
        "id": "B2liRbZWmabB"
      }
    },
    {
      "cell_type": "code",
      "source": [
        "import random\n",
        "\n",
        "def power_mod(base, exponent, modulus):\n",
        "    result = 1\n",
        "    while exponent > 0:\n",
        "        if exponent % 2 == 1:\n",
        "            result = (result * base) % modulus\n",
        "        base = (base * base) % modulus\n",
        "        exponent //= 2\n",
        "    return result\n",
        "\n",
        "def diffie_hellman_key_exchange(p, g):\n",
        "    a = random.randint(2, p - 2)\n",
        "    b = random.randint(2, p - 2)\n",
        "\n",
        "    A = power_mod(g, a, p)\n",
        "    B = power_mod(g, b, p)\n",
        "\n",
        "    secret_key_A = power_mod(B, a, p)\n",
        "    secret_key_B = power_mod(A, b, p)\n",
        "\n",
        "    return secret_key_A, secret_key_B\n",
        "\n",
        "prime_modulus = 23\n",
        "generator = 5\n",
        "\n",
        "alice_key, bob_key = diffie_hellman_key_exchange(prime_modulus, generator)\n",
        "\n",
        "print(f\"Alice's secret key: {alice_key}\")\n",
        "print(f\"Bob's secret key: {bob_key}\")\n"
      ],
      "metadata": {
        "colab": {
          "base_uri": "https://localhost:8080/"
        },
        "id": "dL2hH5R3n8jv",
        "outputId": "3f3874ca-33b1-42aa-af88-5441069a37af"
      },
      "execution_count": null,
      "outputs": [
        {
          "output_type": "stream",
          "name": "stdout",
          "text": [
            "Alice's secret key: 12\n",
            "Bob's secret key: 12\n"
          ]
        }
      ]
    },
    {
      "cell_type": "markdown",
      "source": [
        "##Playfair Cipher"
      ],
      "metadata": {
        "id": "TXyGBrLvAKfj"
      }
    },
    {
      "cell_type": "code",
      "source": [
        "def preprocess(x):\n",
        "  return (x.replace(\" \",\"\")).upper()\n",
        "def getptstring(string):\n",
        "  string = preprocess(string)\n",
        "  if(len(string)%2 == 0):\n",
        "    newstring = string\n",
        "  else:\n",
        "    newstring = string+'X'\n",
        "\n",
        "def handleDuplicates(string):\n",
        "  if(len(string)%2 == 0):\n",
        "    for i in range(0, len(string), 2):\n",
        "      if(string[i] == string[i+1]):\n",
        "        newstring = string[0:i+1] + \"X\" + string[i+1:]\n",
        "        newstring = handleDuplicates(newstring)\n",
        "      else:\n",
        "        newstring = string\n",
        "  else:\n",
        "    for i in range(0, len(string)-1, 2):\n",
        "      if(string[i] == string[i+1]):\n",
        "        newstring = string[0:i+1] + \"X\" + string[i+1:]\n",
        "        newstring = handleDuplicates(newstring)\n",
        "      else:\n",
        "        newstring = string\n",
        "  return newstring\n",
        "\n",
        "\n",
        "\n",
        "def getDiagraph(string):\n",
        "  pairs = []\n",
        "  group = 0\n",
        "  for i in range(0, len(string), 2):\n",
        "    pairs.append(string[group: i])\n",
        "    group = i\n",
        "  pairs.append(string[group:])\n",
        "  return pairs\n",
        "\n",
        "all_letters = [chr(i) for i in range(65,91)]\n",
        "key = \"NEIL\"\n",
        "matrix = generate_matrix(key, string)"
      ],
      "metadata": {
        "id": "uzQU2JBqAM5i"
      },
      "execution_count": null,
      "outputs": []
    },
    {
      "cell_type": "code",
      "source": [
        "def generate_matrix(key, string):\n",
        "  keys=[]\n",
        "  for i in key"
      ],
      "metadata": {
        "id": "5sRvtNxZD447"
      },
      "execution_count": null,
      "outputs": []
    }
  ]
}